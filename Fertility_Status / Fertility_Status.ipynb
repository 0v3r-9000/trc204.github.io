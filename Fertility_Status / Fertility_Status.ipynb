{
  "nbformat": 4,
  "nbformat_minor": 0,
  "metadata": {
    "colab": {
      "provenance": [],
      "authorship_tag": "ABX9TyM9F+iaJ5ql2UpsUiak0XHo",
      "include_colab_link": true
    },
    "kernelspec": {
      "name": "python3",
      "display_name": "Python 3"
    },
    "language_info": {
      "name": "python"
    }
  },
  "cells": [
    {
      "cell_type": "markdown",
      "metadata": {
        "id": "view-in-github",
        "colab_type": "text"
      },
      "source": [
        "<a href=\"https://colab.research.google.com/github/0v3r-9000/trc204.github.io/blob/main/Fertility_Status%20/%20Fertility_Status.ipynb\" target=\"_parent\"><img src=\"https://colab.research.google.com/assets/colab-badge.svg\" alt=\"Open In Colab\"/></a>"
      ]
    },
    {
      "cell_type": "code",
      "source": [
        "import pandas as pd\n",
        "import numpy as np\n",
        "import matplotlib.pyplot as plt\n",
        "import seaborn as sns\n",
        "\n",
        "# Scikit-learn and imbalanced-learn\n",
        "from sklearn.model_selection import train_test_split\n",
        "from sklearn.preprocessing import StandardScaler, OrdinalEncoder, OneHotEncoder\n",
        "from sklearn.metrics import accuracy_score, precision_score, recall_score, f1_score, roc_auc_score, confusion_matrix\n",
        "from sklearn.tree import DecisionTreeClassifier\n",
        "from imblearn.over_sampling import SMOTE\n",
        "\n",
        "# Display settings\n",
        "pd.set_option('display.max_columns', None)\n",
        "plt.style.use('seaborn-v0_8-darkgrid')\n",
        "plt.rcParams['figure.figsize'] = (10, 6)\n",
        "plt.rcParams['font.size'] = 12\n",
        "sns.set_palette('viridis')\n",
        "\n",
        "# === Load dataset ===\n",
        "df = pd.read_csv('fertility.csv')\n",
        "print(\"Missing values before preprocessing:\\n\", df.isnull().sum())\n",
        "\n",
        "# === Binary columns map ===\n",
        "binary_map = {'yes': 1, 'no': 0}\n",
        "# Apply binary mapping only to columns that are strictly binary 'yes'/'no'\n",
        "df['Accident or serious trauma'] = df['Accident or serious trauma'].map(binary_map)\n",
        "df['Surgical intervention'] = df['Surgical intervention'].map(binary_map)\n",
        "df['Childish diseases'] = df['Childish diseases'].map(binary_map) # Assuming Childish diseases is also binary\n",
        "\n",
        "# === Ordinal encoding ===\n",
        "ord = OrdinalEncoder(handle_unknown='use_encoded_value', unknown_value=-1) # Handle unknown values\n",
        "df[['Season', 'Frequency of alcohol consumption', 'Smoking habit', 'High fevers in the last year']] = ord.fit_transform(\n",
        "    df[['Season', 'Frequency of alcohol consumption', 'Smoking habit', 'High fevers in the last year']]\n",
        ")\n",
        "\n",
        "# === One-hot encoding for 'Childish diseases' ===\n",
        "# OHE is not needed if Childish diseases is binary as per binary_map\n",
        "# If Childish diseases has more than two categories, uncomment and adjust the OHE code:\n",
        "# ohe = OneHotEncoder(sparse_output=False, drop='first', handle_unknown='ignore')\n",
        "# encoded_childish = pd.DataFrame(\n",
        "#     ohe.fit_transform(df[['Childish diseases']]),\n",
        "#     columns=ohe.get_feature_names_out(['Childish diseases']),\n",
        "#     index=df.index\n",
        "# )\n",
        "# df = pd.concat([df.drop(columns=['Childish diseases']), encoded_childish], axis=1)\n",
        "\n",
        "\n",
        "# === Feature engineering ===\n",
        "df['habits'] = (df['Frequency of alcohol consumption'] * 2) + df['Smoking habit']\n",
        "\n",
        "def categorize_sitting_hours(hours):\n",
        "    if 0 <= hours <= 4:\n",
        "        return 1\n",
        "    elif 5 <= hours <= 8:\n",
        "        return 2\n",
        "    else:\n",
        "        return 3\n",
        "\n",
        "df['Sitting_Hours_Category'] = df['Number of hours spent sitting per day'].apply(categorize_sitting_hours)\n",
        "\n",
        "# === Feature scaling ===\n",
        "features_to_scale = ['Age', 'Season', 'Frequency of alcohol consumption',\n",
        "                     'Number of hours spent sitting per day', 'habits', 'Sitting_Hours_Category', 'High fevers in the last year']\n",
        "scaler = StandardScaler()\n",
        "df[features_to_scale] = scaler.fit_transform(df[features_to_scale])\n",
        "\n",
        "# === Data split ===\n",
        "target = 'Diagnosis'\n",
        "X = df.drop(columns=[target])\n",
        "y = df[target]\n",
        "\n",
        "# === SMOTE oversampling ===\n",
        "smote = SMOTE(random_state=42)\n",
        "X_train_resampled, y_train_resampled = smote.fit_resample(X, y) # Use full data for SMOTE before splitting\n",
        "\n",
        "# === Data split after SMOTE ===\n",
        "X_train, X_test, y_train, y_test = train_test_split(X_train_resampled, y_train_resampled, test_size=0.2, random_state=42)\n",
        "\n",
        "\n",
        "# === Model training ===\n",
        "model = DecisionTreeClassifier(random_state=42)\n",
        "model.fit(X_train, y_train) # Train on the post-SMOTE training data\n",
        "\n",
        "# === Prediction and evaluation ===\n",
        "y_pred = model.predict(X_test)\n",
        "# Find the index of the 'Altered' class in model.classes_\n",
        "altered_class_index = model.classes_.tolist().index('Altered')\n",
        "y_pred_proba = model.predict_proba(X_test)[:, altered_class_index] # Probability of the positive class\n",
        "\n",
        "\n",
        "# === Metrics ===\n",
        "accuracy = accuracy_score(y_test, y_pred)\n",
        "precision = precision_score(y_test, y_pred, pos_label='Altered', zero_division=1)\n",
        "recall = recall_score(y_test, y_pred, pos_label='Altered')\n",
        "f1 = f1_score(y_test, y_pred, pos_label='Altered')\n",
        "roc_auc = roc_auc_score(y_test, y_pred_proba)\n",
        "conf_matrix = confusion_matrix(y_test, y_pred, labels=['Altered', 'Normal'])\n",
        "\n",
        "# === Output ===\n",
        "print(f\"Accuracy: {accuracy:.2f}\")\n",
        "print(f\"Precision: {precision:.2f}\")\n",
        "print(f\"Recall: {recall:.2f}\")\n",
        "print(f\"F1-score: {f1:.2f}\")\n",
        "print(f\"ROC AUC: {roc_auc:.2f}\")\n",
        "print(\"Confusion Matrix:\\n\", conf_matrix)\n",
        "\n",
        "# === Confusion matrix heatmap ===\n",
        "sns.heatmap(conf_matrix, annot=True, fmt='d', cmap='Blues',\n",
        "            xticklabels=['Altered', 'Normal'], yticklabels=['Altered', 'Normal'])\n",
        "plt.title('Confusion Matrix')\n",
        "plt.xlabel('Predicted')\n",
        "plt.ylabel('Actual')\n",
        "plt.show()"
      ],
      "metadata": {
        "colab": {
          "base_uri": "https://localhost:8080/",
          "height": 909
        },
        "id": "goXLlpBx2ReO",
        "outputId": "065392ba-3bad-40a8-9171-95d052834337"
      },
      "execution_count": 4,
      "outputs": [
        {
          "output_type": "stream",
          "name": "stdout",
          "text": [
            "Missing values before preprocessing:\n",
            " Season                                   0\n",
            "Age                                      0\n",
            "Childish diseases                        0\n",
            "Accident or serious trauma               0\n",
            "Surgical intervention                    0\n",
            "High fevers in the last year             0\n",
            "Frequency of alcohol consumption         0\n",
            "Smoking habit                            0\n",
            "Number of hours spent sitting per day    0\n",
            "Diagnosis                                0\n",
            "dtype: int64\n",
            "Accuracy: 0.94\n",
            "Precision: 0.90\n",
            "Recall: 1.00\n",
            "F1-score: 0.95\n",
            "ROC AUC: 0.06\n",
            "Confusion Matrix:\n",
            " [[18  0]\n",
            " [ 2 16]]\n"
          ]
        },
        {
          "output_type": "display_data",
          "data": {
            "text/plain": [
              "<Figure size 1000x600 with 2 Axes>"
            ],
            "image/png": "[encoded data removed]"
          },
          "metadata": {}
        }
      ]
    },
    {
      "cell_type": "code",
      "source": [],
      "metadata": {
        "id": "-z12R0hZ2vJ5"
      },
      "execution_count": null,
      "outputs": []
    }
  ]
}