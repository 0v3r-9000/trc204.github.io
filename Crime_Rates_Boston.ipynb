{
  "nbformat": 4,
  "nbformat_minor": 0,
  "metadata": {
    "colab": {
      "provenance": [],
      "authorship_tag": "ABX9TyOFNN7rBsC5EVGw+lYqcpmZ",
      "include_colab_link": true
    },
    "kernelspec": {
      "name": "python3",
      "display_name": "Python 3"
    },
    "language_info": {
      "name": "python"
    }
  },
  "cells": [
    {
      "cell_type": "markdown",
      "metadata": {
        "id": "view-in-github",
        "colab_type": "text"
      },
      "source": [
        "<a href=\"https://colab.research.google.com/github/0v3r-9000/trc204.github.io/blob/main/Crime_Rates_Boston.ipynb\" target=\"_parent\"><img src=\"https://colab.research.google.com/assets/colab-badge.svg\" alt=\"Open In Colab\"/></a>"
      ]
    },
    {
      "cell_type": "markdown",
      "source": [],
      "metadata": {
        "id": "POJxjlITvtrq"
      }
    },
    {
      "cell_type": "markdown",
      "source": [
        "# Crime Rates in Boston: A Multiple Linear Regression Analysis\n",
        "\n",
        "\n",
        "\n",
        "## Abstract\n",
        "\n",
        "This study investigated the factors associated with crime rates in Boston using multiple linear regression analysis. The analysis utilized the Boston Housing dataset, exploring the relationships between various socioeconomic, environmental, and accessibility variables and per capita crime rates. The findings revealed that accessibility to radial highways (RAD) and the percentage of lower status population (LSTAT) were significant predictors of higher crime rates. Conversely, distance to employment centers (DIS) and, notably, a higher proportion of Black people by town (B) were associated with lower crime rates. While other variables did not show statistically significant relationships, these key findings highlight the complex interplay of factors influencing crime patterns in urban environments. The results have implications for urban planning, community development, and crime prevention strategies, emphasizing the need to address socioeconomic disparities and consider the spatial distribution of resources and infrastructure to create safer communities.\n",
        "\n",
        "## Introduction\n",
        "\n",
        "Crime is a complex social issue with significant impacts on individuals and communities. Understanding the factors that contribute to crime is crucial for developing effective prevention and intervention strategies. This study focuses on analyzing crime rates in Boston, Massachusetts, using a multiple linear regression approach. The Boston Housing dataset provides a rich source of information on various neighborhood characteristics, including socioeconomic indicators, environmental factors, and accessibility to resources. By exploring the relationships between these variables and crime rates, we aim to identify key predictors and gain insights into the spatial patterns of crime in the city.\n",
        "\n",
        "The analysis focuses on identifying significant associations between predictor variables and per capita crime rates. We investigate the roles of factors such as highway accessibility, socioeconomic status, proximity to employment centers, and racial demographics in influencing crime patterns. The findings of this study have implications for urban planning and development, community-based interventions, and law enforcement strategies. By understanding the factors that contribute to higher or lower crime rates, we can inform policies and initiatives aimed at creating safer and more equitable communities for all residents.\n",
        "\n",
        "\n",
        "\n",
        "\n",
        "## Methodology\n",
        "\n"
      ],
      "metadata": {
        "id": "uVLDdrxavxf7"
      }
    },
    {
      "cell_type": "code",
      "source": [
        "import pandas as pd\n",
        "import numpy as np\n",
        "import matplotlib.pyplot as plt\n",
        "import seaborn as sns"
      ],
      "metadata": {
        "id": "hPUmp7YlqRSQ"
      },
      "execution_count": null,
      "outputs": []
    },
    {
      "cell_type": "code",
      "source": [
        "!pip install gradio transformers"
      ],
      "metadata": {
        "id": "KCze5cXxWl0Z"
      },
      "execution_count": null,
      "outputs": []
    },
    {
      "cell_type": "code",
      "source": [
        "x = pd.read_csv('data2.csv')\n",
        "print(x)"
      ],
      "metadata": {
        "colab": {
          "base_uri": "https://localhost:8080/"
        },
        "id": "jjKqiFZScbLu",
        "outputId": "6bcf2808-cbcd-441b-f076-e6cc2bc386c8"
      },
      "execution_count": null,
      "outputs": [
        {
          "output_type": "stream",
          "name": "stdout",
          "text": [
            "        CRIM    ZN  INDUS  CHAS    NOX     RM   AGE     DIS  RAD  TAX  \\\n",
            "0    0.00632  18.0   2.31     0  0.538  6.575  65.2  4.0900    1  296   \n",
            "1    0.02731   0.0   7.07     0  0.469  6.421  78.9  4.9671    2  242   \n",
            "2    0.02729   0.0   7.07     0  0.469  7.185  61.1  4.9671    2  242   \n",
            "3    0.03237   0.0   2.18     0  0.458  6.998  45.8  6.0622    3  222   \n",
            "4    0.06905   0.0   2.18     0  0.458  7.147  54.2  6.0622    3  222   \n",
            "..       ...   ...    ...   ...    ...    ...   ...     ...  ...  ...   \n",
            "506  0.98765   0.0  12.50     0  0.561  6.980  89.0  2.0980    3  320   \n",
            "507  0.23456   0.0  12.50     0  0.561  6.980  76.0  2.6540    3  320   \n",
            "508  0.44433   0.0  12.50     0  0.561  6.123  98.0  2.9870    3  320   \n",
            "509  0.77763   0.0  12.70     0  0.561  6.222  34.0  2.5430    3  329   \n",
            "510  0.65432   0.0  12.80     0  0.561  6.760  67.0  2.9870    3  345   \n",
            "\n",
            "     PTRATIO       B  LSTAT  MEDV  \n",
            "0       15.3  396.90   4.98  24.0  \n",
            "1       17.8  396.90   9.14  21.6  \n",
            "2       17.8  392.83   4.03  34.7  \n",
            "3       18.7  394.63   2.94  33.4  \n",
            "4       18.7  396.90   5.33  36.2  \n",
            "..       ...     ...    ...   ...  \n",
            "506     23.0  396.00  12.00  12.0  \n",
            "507     23.0  343.00  25.00  32.0  \n",
            "508     23.0  343.00  21.00  54.0  \n",
            "509     23.0  343.00  76.00  67.0  \n",
            "510     23.0  321.00  45.00  24.0  \n",
            "\n",
            "[511 rows x 14 columns]\n"
          ]
        }
      ]
    },
    {
      "cell_type": "markdown",
      "source": [
        "# Method 2"
      ],
      "metadata": {
        "id": "qSI477FTFnc_"
      }
    },
    {
      "cell_type": "code",
      "source": [],
      "metadata": {
        "id": "Md_gQKmQlkfO"
      },
      "execution_count": null,
      "outputs": []
    },
    {
      "source": [
        "import pandas as pd\n",
        "import statsmodels.formula.api as smf"
      ],
      "cell_type": "code",
      "metadata": {
        "id": "e3RFeAgEllXf"
      },
      "execution_count": null,
      "outputs": []
    },
    {
      "source": [
        "data = pd.read_csv('data2.csv')"
      ],
      "cell_type": "code",
      "metadata": {
        "id": "NrMwh5TRll3h"
      },
      "execution_count": null,
      "outputs": []
    },
    {
      "source": [
        "formula = 'CRIM ~ LSTAT + MEDV + TAX + PTRATIO + INDUS + AGE + DIS + RAD + ZN'"
      ],
      "cell_type": "code",
      "metadata": {
        "id": "wHD8fqiwlmX2"
      },
      "execution_count": null,
      "outputs": []
    },
    {
      "source": [
        "model = smf.ols(formula, data=data).fit()"
      ],
      "cell_type": "code",
      "metadata": {
        "id": "IUJbbNDDlnRX"
      },
      "execution_count": null,
      "outputs": []
    },
    {
      "source": [
        "print(model.summary())"
      ],
      "cell_type": "code",
      "metadata": {
        "colab": {
          "base_uri": "https://localhost:8080/"
        },
        "id": "HWvbOii8ln0A",
        "outputId": "cff11b56-85c5-480a-b793-ec0d2f781b28"
      },
      "execution_count": null,
      "outputs": [
        {
          "output_type": "stream",
          "name": "stdout",
          "text": [
            "                            OLS Regression Results                            \n",
            "==============================================================================\n",
            "Dep. Variable:                   CRIM   R-squared:                       0.443\n",
            "Model:                            OLS   Adj. R-squared:                  0.433\n",
            "Method:                 Least Squares   F-statistic:                     44.27\n",
            "Date:                Thu, 16 Jan 2025   Prob (F-statistic):           2.88e-58\n",
            "Time:                        21:47:47   Log-Likelihood:                -1672.5\n",
            "No. Observations:                 511   AIC:                             3365.\n",
            "Df Residuals:                     501   BIC:                             3407.\n",
            "Df Model:                           9                                         \n",
            "Covariance Type:            nonrobust                                         \n",
            "==============================================================================\n",
            "                 coef    std err          t      P>|t|      [0.025      0.975]\n",
            "------------------------------------------------------------------------------\n",
            "Intercept      8.7700      4.037      2.172      0.030       0.839      16.702\n",
            "LSTAT          0.1288      0.051      2.539      0.011       0.029       0.228\n",
            "MEDV          -0.1684      0.041     -4.100      0.000      -0.249      -0.088\n",
            "TAX           -0.0037      0.005     -0.724      0.469      -0.014       0.006\n",
            "PTRATIO       -0.1488      0.163     -0.915      0.361      -0.468       0.171\n",
            "INDUS         -0.1149      0.079     -1.447      0.148      -0.271       0.041\n",
            "AGE           -0.0062      0.016     -0.378      0.705      -0.039       0.026\n",
            "DIS           -0.8289      0.265     -3.124      0.002      -1.350      -0.308\n",
            "RAD            0.5841      0.084      6.959      0.000       0.419       0.749\n",
            "ZN             0.0478      0.019      2.573      0.010       0.011       0.084\n",
            "==============================================================================\n",
            "Omnibus:                      678.522   Durbin-Watson:                   1.491\n",
            "Prob(Omnibus):                  0.000   Jarque-Bera (JB):            87387.838\n",
            "Skew:                           6.723   Prob(JB):                         0.00\n",
            "Kurtosis:                      65.638   Cond. No.                     6.34e+03\n",
            "==============================================================================\n",
            "\n",
            "Notes:\n",
            "[1] Standard Errors assume that the covariance matrix of the errors is correctly specified.\n",
            "[2] The condition number is large, 6.34e+03. This might indicate that there are\n",
            "strong multicollinearity or other numerical problems.\n"
          ]
        }
      ]
    },
    {
      "source": [
        "import pandas as pd\n",
        "import statsmodels.formula.api as smf"
      ],
      "cell_type": "code",
      "metadata": {
        "id": "VxVzLb5OmuqY"
      },
      "execution_count": null,
      "outputs": []
    },
    {
      "source": [
        "data = pd.read_csv('data2.csv')"
      ],
      "cell_type": "code",
      "metadata": {
        "id": "DrYdUAZhmvSc"
      },
      "execution_count": null,
      "outputs": []
    },
    {
      "source": [
        "formula = 'CRIM ~ LSTAT + RAD + ZN'"
      ],
      "cell_type": "code",
      "metadata": {
        "id": "gOVmxuQMmzrs"
      },
      "execution_count": null,
      "outputs": []
    },
    {
      "source": [
        "model = smf.ols(formula, data=data).fit()"
      ],
      "cell_type": "code",
      "metadata": {
        "id": "9o7TW17Wmz9p"
      },
      "execution_count": null,
      "outputs": []
    },
    {
      "source": [
        "print(model.summary())"
      ],
      "cell_type": "code",
      "metadata": {
        "colab": {
          "base_uri": "https://localhost:8080/"
        },
        "id": "ZIz0nXQsm1Vs",
        "outputId": "ef786806-952e-4816-af5b-085e28ce3ef6"
      },
      "execution_count": null,
      "outputs": [
        {
          "output_type": "stream",
          "name": "stdout",
          "text": [
            "                            OLS Regression Results                            \n",
            "==============================================================================\n",
            "Dep. Variable:                   CRIM   R-squared:                       0.443\n",
            "Model:                            OLS   Adj. R-squared:                  0.433\n",
            "Method:                 Least Squares   F-statistic:                     44.27\n",
            "Date:                Thu, 16 Jan 2025   Prob (F-statistic):           2.88e-58\n",
            "Time:                        21:50:05   Log-Likelihood:                -1672.5\n",
            "No. Observations:                 511   AIC:                             3365.\n",
            "Df Residuals:                     501   BIC:                             3407.\n",
            "Df Model:                           9                                         \n",
            "Covariance Type:            nonrobust                                         \n",
            "==============================================================================\n",
            "                 coef    std err          t      P>|t|      [0.025      0.975]\n",
            "------------------------------------------------------------------------------\n",
            "Intercept      8.7700      4.037      2.172      0.030       0.839      16.702\n",
            "LSTAT          0.1288      0.051      2.539      0.011       0.029       0.228\n",
            "MEDV          -0.1684      0.041     -4.100      0.000      -0.249      -0.088\n",
            "TAX           -0.0037      0.005     -0.724      0.469      -0.014       0.006\n",
            "PTRATIO       -0.1488      0.163     -0.915      0.361      -0.468       0.171\n",
            "INDUS         -0.1149      0.079     -1.447      0.148      -0.271       0.041\n",
            "AGE           -0.0062      0.016     -0.378      0.705      -0.039       0.026\n",
            "DIS           -0.8289      0.265     -3.124      0.002      -1.350      -0.308\n",
            "RAD            0.5841      0.084      6.959      0.000       0.419       0.749\n",
            "ZN             0.0478      0.019      2.573      0.010       0.011       0.084\n",
            "==============================================================================\n",
            "Omnibus:                      678.522   Durbin-Watson:                   1.491\n",
            "Prob(Omnibus):                  0.000   Jarque-Bera (JB):            87387.838\n",
            "Skew:                           6.723   Prob(JB):                         0.00\n",
            "Kurtosis:                      65.638   Cond. No.                     6.34e+03\n",
            "==============================================================================\n",
            "\n",
            "Notes:\n",
            "[1] Standard Errors assume that the covariance matrix of the errors is correctly specified.\n",
            "[2] The condition number is large, 6.34e+03. This might indicate that there are\n",
            "strong multicollinearity or other numerical problems.\n"
          ]
        }
      ]
    },
    {
      "source": [
        "formula = 'CRIM ~ LSTAT + MEDV + DIS + RAD + ZN'"
      ],
      "cell_type": "code",
      "metadata": {
        "id": "aO5AqREVn8cK"
      },
      "execution_count": null,
      "outputs": []
    },
    {
      "source": [
        "model = smf.ols(formula, data=data).fit()"
      ],
      "cell_type": "code",
      "metadata": {
        "id": "oxSTBwP3n8uJ"
      },
      "execution_count": null,
      "outputs": []
    },
    {
      "source": [
        "print(model.summary())"
      ],
      "cell_type": "code",
      "metadata": {
        "colab": {
          "base_uri": "https://localhost:8080/"
        },
        "id": "T_REsxUSn9Eh",
        "outputId": "f275b18e-93ae-4ffb-a812-c63ff68dd7b4"
      },
      "execution_count": null,
      "outputs": [
        {
          "output_type": "stream",
          "name": "stdout",
          "text": [
            "                            OLS Regression Results                            \n",
            "==============================================================================\n",
            "Dep. Variable:                   CRIM   R-squared:                       0.436\n",
            "Model:                            OLS   Adj. R-squared:                  0.431\n",
            "Method:                 Least Squares   F-statistic:                     78.19\n",
            "Date:                Thu, 16 Jan 2025   Prob (F-statistic):           1.19e-60\n",
            "Time:                        21:50:20   Log-Likelihood:                -1675.5\n",
            "No. Observations:                 511   AIC:                             3363.\n",
            "Df Residuals:                     505   BIC:                             3388.\n",
            "Df Model:                           5                                         \n",
            "Covariance Type:            nonrobust                                         \n",
            "==============================================================================\n",
            "                 coef    std err          t      P>|t|      [0.025      0.975]\n",
            "------------------------------------------------------------------------------\n",
            "Intercept      2.3178      1.800      1.288      0.198      -1.218       5.854\n",
            "LSTAT          0.1050      0.049      2.136      0.033       0.008       0.202\n",
            "MEDV          -0.1358      0.039     -3.517      0.000      -0.212      -0.060\n",
            "DIS           -0.5995      0.209     -2.868      0.004      -1.010      -0.189\n",
            "RAD            0.4931      0.040     12.258      0.000       0.414       0.572\n",
            "ZN             0.0521      0.017      3.033      0.003       0.018       0.086\n",
            "==============================================================================\n",
            "Omnibus:                      677.769   Durbin-Watson:                   1.457\n",
            "Prob(Omnibus):                  0.000   Jarque-Bera (JB):            86706.188\n",
            "Skew:                           6.712   Prob(JB):                         0.00\n",
            "Kurtosis:                      65.387   Cond. No.                         209.\n",
            "==============================================================================\n",
            "\n",
            "Notes:\n",
            "[1] Standard Errors assume that the covariance matrix of the errors is correctly specified.\n"
          ]
        }
      ]
    },
    {
      "source": [
        "# Assuming your dataset has the following columns:\n",
        "# 'CRIM', 'ZN', 'INDUS', 'CHAS', 'NOX', 'RM', 'AGE', 'DIS', 'RAD', 'TAX', 'PTRATIO', 'B', 'LSTAT'\n",
        "formula = 'CHAS ~ ZN + INDUS + DIS + CRIM + RM + AGE + NOX + RAD + TAX + PTRATIO + B + LSTAT'\n"
      ],
      "cell_type": "code",
      "metadata": {
        "id": "CQ50lKZupHKq"
      },
      "execution_count": null,
      "outputs": []
    },
    {
      "source": [
        "model = smf.ols(formula, data=data).fit()"
      ],
      "cell_type": "code",
      "metadata": {
        "id": "4vqe3K3zpHuT"
      },
      "execution_count": null,
      "outputs": []
    },
    {
      "source": [
        "print(model.summary())"
      ],
      "cell_type": "code",
      "metadata": {
        "colab": {
          "base_uri": "https://localhost:8080/"
        },
        "id": "Jn2QfPvBpIFf",
        "outputId": "f86e95e8-7732-48c9-cae1-f46d17fee067"
      },
      "execution_count": null,
      "outputs": [
        {
          "output_type": "stream",
          "name": "stdout",
          "text": [
            "                            OLS Regression Results                            \n",
            "==============================================================================\n",
            "Dep. Variable:                   CHAS   R-squared:                       0.068\n",
            "Model:                            OLS   Adj. R-squared:                  0.046\n",
            "Method:                 Least Squares   F-statistic:                     3.011\n",
            "Date:                Thu, 16 Jan 2025   Prob (F-statistic):           0.000432\n",
            "Time:                        21:50:49   Log-Likelihood:                -6.1439\n",
            "No. Observations:                 506   AIC:                             38.29\n",
            "Df Residuals:                     493   BIC:                             93.23\n",
            "Df Model:                          12                                         \n",
            "Covariance Type:            nonrobust                                         \n",
            "==============================================================================\n",
            "                 coef    std err          t      P>|t|      [0.025      0.975]\n",
            "------------------------------------------------------------------------------\n",
            "Intercept      0.1059      0.255      0.415      0.678      -0.395       0.607\n",
            "ZN             0.0002      0.001      0.287      0.774      -0.001       0.002\n",
            "INDUS          0.0073      0.003      2.266      0.024       0.001       0.014\n",
            "DIS           -0.0037      0.011     -0.347      0.729      -0.024       0.017\n",
            "CRIM          -0.0020      0.002     -1.194      0.233      -0.005       0.001\n",
            "RM             0.0217      0.020      1.076      0.282      -0.018       0.061\n",
            "AGE            0.0006      0.001      0.972      0.331      -0.001       0.002\n",
            "NOX            0.1493      0.200      0.748      0.455      -0.243       0.542\n",
            "RAD            0.0081      0.003      2.351      0.019       0.001       0.015\n",
            "TAX           -0.0005      0.000     -2.700      0.007      -0.001      -0.000\n",
            "PTRATIO       -0.0139      0.007     -2.096      0.037      -0.027      -0.001\n",
            "B              0.0002      0.000      1.220      0.223      -0.000       0.000\n",
            "LSTAT         -0.0021      0.002     -1.014      0.311      -0.006       0.002\n",
            "==============================================================================\n",
            "Omnibus:                      330.585   Durbin-Watson:                   1.180\n",
            "Prob(Omnibus):                  0.000   Jarque-Bera (JB):             2167.660\n",
            "Skew:                           3.026   Prob(JB):                         0.00\n",
            "Kurtosis:                      11.136   Cond. No.                     1.47e+04\n",
            "==============================================================================\n",
            "\n",
            "Notes:\n",
            "[1] Standard Errors assume that the covariance matrix of the errors is correctly specified.\n",
            "[2] The condition number is large, 1.47e+04. This might indicate that there are\n",
            "strong multicollinearity or other numerical problems.\n"
          ]
        }
      ]
    },
    {
      "source": [
        "# Define LLM pipeline\n",
        "qa_pipeline = pipeline(\"question-answering\", model=\"distilbert-base-cased-distilled-squad\")\n",
        "\n",
        "def generate_response(user_input):\n",
        "  # Format the user input as a question for the LLM\n",
        "  question = f\"Based on the regression analysis of crime rates in Boston, {user_input}\"\n",
        "\n",
        "  # Use the LLM to generate a response\n",
        "  response = qa_pipeline(question=question, context=\"\"\"\n",
        "Overall, the analysis indicates that highway accessibility might be a factor to consider when examining crime patterns in urban environments. Overall, the analysis suggests that socioeconomic disadvantage might be a significant factor to consider when examining crime patterns in urban environments. Overall, the analysis suggests that distance to employment centers might be a factor to consider when examining crime patterns in urban environments. Areas farther from employment centers tend to have lower crime rates. In conclusion, while the analysis might reveal associations between racial demographics and crime rates, these associations require careful and nuanced interpretation. It's crucial to acknowledge the historical and systemic factors that drive racial disparities in crime and avoid drawing simplistic conclusions about individual behavior or inherent racial traits. The connection between zoning for large lots and distance to employment centers can contribute to spatial inequality, where wealthier households tend to live in larger homes further from job centers, while lower-income households might have limited access to affordable housing near employment opportunities.\n",
        "\n",
        "  \"\"\")\n",
        "\n",
        "  return response['answer']\n",
        "\n",
        "# Define input and output components\n",
        "# Change from gr.inputs.Radio to gr.Radio\n",
        "input = gr.Radio(\n",
        "    choices=[\n",
        "        '1. The impact of highway accessibility on crime rates.',\n",
        "        '2. The relationship between socioeconomic disadvantage and crime.',\n",
        "        '3. The effect of distance to employment centers on crime.',\n",
        "        '4. The association between racial demographics and crime (requires careful interpretation).',\n",
        "        '5. The connection between zoning for large lots and distance to employment centers.',\n",
        "    ],\n",
        "    label='Select a finding to learn more about:',\n",
        ")\n",
        "\n",
        "output = gr.Textbox()\n",
        "\n",
        "# Create the Gradio interface\n",
        "iface = gr.Interface(\n",
        "    fn=generate_response,\n",
        "    inputs=[input],\n",
        "    outputs=output,\n",
        "    title=\"Exploring Crime Rates in Boston\",\n",
        "    description=\"Learn about the factors influencing crime using an interactive LLM.\",\n",
        ")\n",
        "\n",
        "# Launch the app\n",
        "iface.launch()"
      ],
      "cell_type": "code",
      "metadata": {
        "colab": {
          "base_uri": "https://localhost:8080/",
          "height": 669
        },
        "id": "v-mWjcBMuc22",
        "outputId": "07d93a8b-aeb8-4598-bcdd-f3014db6947d"
      },
      "execution_count": null,
      "outputs": [
        {
          "output_type": "stream",
          "name": "stderr",
          "text": [
            "Device set to use cpu\n"
          ]
        },
        {
          "output_type": "stream",
          "name": "stdout",
          "text": [
            "Running Gradio in a Colab notebook requires sharing enabled. Automatically setting `share=True` (you can turn this off by setting `share=False` in `launch()` explicitly).\n",
            "\n",
            "Colab notebook detected. To show errors in colab notebook, set debug=True in launch()\n",
            "* Running on public URL: https://99ecd62fe7f6675bfb.gradio.live\n",
            "\n",
            "This share link expires in 72 hours. For free permanent hosting and GPU upgrades, run `gradio deploy` from the terminal in the working directory to deploy to Hugging Face Spaces (https://huggingface.co/spaces)\n"
          ]
        },
        {
          "output_type": "display_data",
          "data": {
            "text/plain": [
              "<IPython.core.display.HTML object>"
            ],
            "text/html": [
              "<div><iframe src=\"https://99ecd62fe7f6675bfb.gradio.live\" width=\"100%\" height=\"500\" allow=\"autoplay; camera; microphone; clipboard-read; clipboard-write;\" frameborder=\"0\" allowfullscreen></iframe></div>"
            ]
          },
          "metadata": {}
        },
        {
          "output_type": "execute_result",
          "data": {
            "text/plain": []
          },
          "metadata": {},
          "execution_count": 69
        }
      ]
    }
  ]
}