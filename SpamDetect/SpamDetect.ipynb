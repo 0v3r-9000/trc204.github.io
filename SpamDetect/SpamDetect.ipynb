{
 "cells": [
  {
   "cell_type": "code",
   "execution_count": null,
   "id": "731ea61d-6b10-4518-98fd-60914702acbd",
   "metadata": {},
   "outputs": [],
   "source": [
    "import pandas as pd\n",
    "\n",
    "df = pd.read_csv('spam.csv', encoding='latin-1')\n",
    "df.head()\n",
    "X = df['v2'].values\n",
    "y = df['v1'].values\n",
    "from sklearn.preprocessing import LabelBinarizer, LabelEncoder\n",
    "lb = LabelBinarizer()\n",
    "y = lb.fit_transform(y).ravel()\n",
    "lb.classes_\n",
    "from sklearn.model_selection import train_test_split\n",
    "X_train, X_test, y_train, y_test = train_test_split(X, y, test_size=0.2, random_state=0)\n",
    "from sklearn.feature_extraction.text import TfidfVectorizer\n",
    "cv = TfidfVectorizer()\n",
    "X_trainTF = cv.fit_transform(X_train)\n",
    "X_testTF = cv.transform(X_test)\n",
    "print(X_testTF)\n",
    "from sklearn.linear_model import LogisticRegression\n",
    "lr = LogisticRegression()\n",
    "lr.fit(X_trainTF, y_train)\n",
    "y_pred = lr.predict(X_testTF)\n",
    "\n",
    "for pred, v2 in zip(y_pred, X_test):\n",
    "    print(pred, v2)"
   ]
  }
 ],
 "metadata": {
  "kernelspec": {
   "display_name": "Python (global)",
   "language": "python",
   "name": "global-python-kernel"
  },
  "language_info": {
   "codemirror_mode": {
    "name": "ipython",
    "version": 3
   },
   "file_extension": ".py",
   "mimetype": "text/x-python",
   "name": "python",
   "nbconvert_exporter": "python",
   "pygments_lexer": "ipython3",
   "version": "3.13.1"
  }
 },
 "nbformat": 4,
 "nbformat_minor": 5
}
