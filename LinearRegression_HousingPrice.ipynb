import numpy as np
import matplotlib.pyplot as plt
import pandas as pd

#made a variable df

df = pd.read_csv("sample_data/california_housing_train.csv")

#print df
df.head()

#made two more variables + added values
x_train = np.array([5612, 7650])
y_train = np.array([66900, 80100])

print(f"x_train: {x_train}")
print(f"y_train: {y_train}")
# m is the number of training examples
print(f"x_train.shape: {x_train.shape}")
m = x_train.shape[0]
print(f"Number of training examples is: {m}")
# m is the number of training examples
m = len(x_train)
print(f"Number of training examples is: {m}")
i = 0 # Change this to 1 to see (x^1, y^1)

x_i = x_train[i]
y_i = y_train[i]
print(f"(x^({i}), y^({i})) = ({x_i}, {y_i})")
# Plot the data points
plt.scatter(x_train, y_train, marker='x', c='r')
# Set the title
plt.title("Housing Prices")
# Set the y-axis label
plt.ylabel('Price (in 1000s of dollars)')
# Set the x-axis label
plt.xlabel('Size (1000 sqft)')
plt.show()
w = 10.55
b = 6
print(f"w: {w}")
print(f"b: {b}")
def compute_model_output(x, w, b):
    """
    Computes the prediction of a linear model
    Args:
      x (ndarray (m,)): Data, m examples
      w,b (scalar)    : model parameters
    Returns
      f_wb (ndarray (m,)): model prediction
    """
    m = x.shape[0]
    f_wb = np.zeros(m)
    for i in range(m):
        f_wb[i] = w * x[i] + b

    return f_wb

tmp_f_wb = compute_model_output(x_train, w, b,)

# Plot our model prediction
plt.plot(x_train, tmp_f_wb, c='b',label='Our Prediction')

# Plot the data points
plt.scatter(x_train, y_train, marker='x', c='r',label='Actual Values')

# Set the title
plt.title("Housing Prices")
# Set the y-axis label
plt.ylabel('Price (in 1000s of dollars)')
# Set the x-axis label
plt.xlabel('Size (1000 sqft)')
plt.legend()
plt.show()
x_i = 60.50
cost_6750 = w * x_i + b

# The variable name in the print statement has been changed to 'cost_6750'
print(f"${cost_6750:.0f} thousand dollars")
# Assuming your test data is in a file named 'california_housing_test.csv'
test_data = pd.read_csv('sample_data/california_housing_test.csv')

# Extract features (x_test) and target (y_test) from the test data
x_test = test_data['total_rooms'].values
y_test = test_data['median_house_value'].values
df.test = pd.read_csv("sample_data/california_housing_test.csv")
df.test.head()
from sklearn.linear_model import LinearRegression

X = df.test[["total_rooms"]]
y = df.test["median_house_value"]

from sklearn.model_selection import train_test_split
X_train, X_test, y_train, y_test = train_test_split(X, y, test_size=0.3, random_state=42)

# Instantiate the model
from sklearn.linear_model import LinearRegression
reg = LinearRegression()

# Fit the model to the data
reg.fit(X_train, y_train)

# Make predictions
y_pred = reg.predict(X_test)
print("Predictions: {}, Actual Values: {}".format(y_pred[:2], y_test[:2]))
print(y_pred)
comparison_df = pd.DataFrame({'Predictions': y_pred, 'Actual Values': y_test})
print(comparison_df)
# Print all predictions
print(y_pred)

# Create a comparison DataFrame
comparison_df = pd.DataFrame({'Predictions': y_pred, 'Actual Values': y_test})
print(comparison_df)

# ... (code for visualization if needed) ...
