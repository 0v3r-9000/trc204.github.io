{
 "cells": [
  {
   "cell_type": "code",
   "execution_count": 4,
   "id": "016fec6b-473a-42af-bed8-f501cd1a8a0b",
   "metadata": {},
   "outputs": [
    {
     "name": "stdout",
     "output_type": "stream",
     "text": [
      "Model Accuracy: 0.8636363636363636\n",
      "--------------------------------------\n",
      "Predictions:  [2 0 1 1 0 1 2 0 1 0 0 0 0 2 0 0 0 2 1 0 1 2 0 1 1 2 2 0 0 0 2 2 2 0 0 1 2\n",
      " 1 2 2 2 0 1 2 2 0 2 2 0 0 1 0 0 0 1 1 2 2 1 1 2 0 2 0 2 0 2 1 2 2 2 1 2 1\n",
      " 0 0 1 0 1 0 1 0 0 1 1 2 2 2 2 1 0 2 0 1 0 0 0 0 1 1 2 0 0 2 2 2 1 2 1 2]\n",
      "--------------------------------------\n",
      "              precision    recall  f1-score   support\n",
      "\n",
      "           0       0.90      0.86      0.88        43\n",
      "           1       1.00      0.79      0.88        38\n",
      "           2       0.72      0.97      0.82        29\n",
      "\n",
      "    accuracy                           0.86       110\n",
      "   macro avg       0.87      0.87      0.86       110\n",
      "weighted avg       0.89      0.86      0.87       110\n",
      "\n"
     ]
    }
   ],
   "source": [
    "# Import necessary libraries\n",
    "import pandas as pd\n",
    "import numpy as np\n",
    "from sklearn.model_selection import train_test_split\n",
    "from sklearn.pipeline import Pipeline\n",
    "from sklearn.preprocessing import StandardScaler\n",
    "from sklearn.linear_model import RidgeClassifier\n",
    "from sklearn.feature_selection import SelectKBest, f_classif\n",
    "from sklearn.metrics import classification_report\n",
    "\n",
    "# Load data\n",
    "df = pd.read_csv('StressLevelDataset.csv')\n",
    "# Optional: display the first few rows to inspect the data\n",
    "# display(df.head())\n",
    "\n",
    "# Assuming df1 is not used in the subsequent code, you can remove or comment it out if not needed.\n",
    "# df1 = pd.read_csv('Stress_Dataset.csv')\n",
    "# display(df1.head())\n",
    "\n",
    "# Define features (X) and target (y)\n",
    "X = df.drop('stress_level', axis=1)\n",
    "y = df['stress_level']\n",
    "\n",
    "# Split data into training and testing sets\n",
    "X_train, X_test, y_train, y_test = train_test_split(X, y, test_size=0.1, random_state=42)\n",
    "\n",
    "# Create a machine learning pipeline\n",
    "# The pipeline first scales the data, selects features, and then applies the RidgeClassifier model\n",
    "pipeline = Pipeline(steps=[\n",
    "    ('scaler', StandardScaler()), # Standardize features\n",
    "    ('selector', SelectKBest(score_func=f_classif, k=10)), # Added feature selection with f_classif\n",
    "    ('ridge', RidgeClassifier())  # Apply Ridge Classifier model\n",
    "])\n",
    "\n",
    "# Fit the pipeline to the training data\n",
    "pipeline.fit(X_train, y_train)\n",
    "\n",
    "# Evaluate the pipeline on the test data\n",
    "accuracy = pipeline.score(X_test, y_test)\n",
    "print(f\"Model Accuracy: {accuracy}\")\n",
    "print(\"--------------------------------------\")\n",
    "\n",
    "# Get predictions on the test set\n",
    "y_pred = pipeline.predict(X_test)\n",
    "print(\"Predictions: \", y_pred)\n",
    "print(\"--------------------------------------\")\n",
    "\n",
    "# Print classification report for detailed evaluation\n",
    "print(classification_report(y_test, y_pred))\n"
   ]
  }
 ],
 "metadata": {
  "kernelspec": {
   "display_name": "Python 3 (ipykernel)",
   "language": "python",
   "name": "python3"
  },
  "language_info": {
   "codemirror_mode": {
    "name": "ipython",
    "version": 3
   },
   "file_extension": ".py",
   "mimetype": "text/x-python",
   "name": "python",
   "nbconvert_exporter": "python",
   "pygments_lexer": "ipython3",
   "version": "3.12.1"
  }
 },
 "nbformat": 4,
 "nbformat_minor": 5
}
