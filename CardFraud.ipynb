{
 "cells": [
  {
   "cell_type": "code",
   "execution_count": 2,
   "id": "785663ee-342e-45c1-bed2-e21750c908e2",
   "metadata": {},
   "outputs": [
    {
     "name": "stdout",
     "output_type": "stream",
     "text": [
      "            Time         V1         V2        V3        V4        V5  \\\n",
      "0            0.0  -1.359807  -0.072781  2.536347  1.378155 -0.338321   \n",
      "1            0.0   1.191857   0.266151  0.166480  0.448154  0.060018   \n",
      "2            1.0  -1.358354  -1.340163  1.773209  0.379780 -0.503198   \n",
      "3            1.0  -0.966272  -0.185226  1.792993 -0.863291 -0.010309   \n",
      "4            2.0  -1.158233   0.877737  1.548718  0.403034 -0.407193   \n",
      "...          ...        ...        ...       ...       ...       ...   \n",
      "284802  172786.0 -11.881118  10.071785 -9.834783 -2.066656 -5.364473   \n",
      "284803  172787.0  -0.732789  -0.055080  2.035030 -0.738589  0.868229   \n",
      "284804  172788.0   1.919565  -0.301254 -3.249640 -0.557828  2.630515   \n",
      "284805  172788.0  -0.240440   0.530483  0.702510  0.689799 -0.377961   \n",
      "284806  172792.0  -0.533413  -0.189733  0.703337 -0.506271 -0.012546   \n",
      "\n",
      "              V6        V7        V8        V9  ...       V21       V22  \\\n",
      "0       0.462388  0.239599  0.098698  0.363787  ... -0.018307  0.277838   \n",
      "1      -0.082361 -0.078803  0.085102 -0.255425  ... -0.225775 -0.638672   \n",
      "2       1.800499  0.791461  0.247676 -1.514654  ...  0.247998  0.771679   \n",
      "3       1.247203  0.237609  0.377436 -1.387024  ... -0.108300  0.005274   \n",
      "4       0.095921  0.592941 -0.270533  0.817739  ... -0.009431  0.798278   \n",
      "...          ...       ...       ...       ...  ...       ...       ...   \n",
      "284802 -2.606837 -4.918215  7.305334  1.914428  ...  0.213454  0.111864   \n",
      "284803  1.058415  0.024330  0.294869  0.584800  ...  0.214205  0.924384   \n",
      "284804  3.031260 -0.296827  0.708417  0.432454  ...  0.232045  0.578229   \n",
      "284805  0.623708 -0.686180  0.679145  0.392087  ...  0.265245  0.800049   \n",
      "284806 -0.649617  1.577006 -0.414650  0.486180  ...  0.261057  0.643078   \n",
      "\n",
      "             V23       V24       V25       V26       V27       V28  Amount  \\\n",
      "0      -0.110474  0.066928  0.128539 -0.189115  0.133558 -0.021053  149.62   \n",
      "1       0.101288 -0.339846  0.167170  0.125895 -0.008983  0.014724    2.69   \n",
      "2       0.909412 -0.689281 -0.327642 -0.139097 -0.055353 -0.059752  378.66   \n",
      "3      -0.190321 -1.175575  0.647376 -0.221929  0.062723  0.061458  123.50   \n",
      "4      -0.137458  0.141267 -0.206010  0.502292  0.219422  0.215153   69.99   \n",
      "...          ...       ...       ...       ...       ...       ...     ...   \n",
      "284802  1.014480 -0.509348  1.436807  0.250034  0.943651  0.823731    0.77   \n",
      "284803  0.012463 -1.016226 -0.606624 -0.395255  0.068472 -0.053527   24.79   \n",
      "284804 -0.037501  0.640134  0.265745 -0.087371  0.004455 -0.026561   67.88   \n",
      "284805 -0.163298  0.123205 -0.569159  0.546668  0.108821  0.104533   10.00   \n",
      "284806  0.376777  0.008797 -0.473649 -0.818267 -0.002415  0.013649  217.00   \n",
      "\n",
      "        Class  \n",
      "0           0  \n",
      "1           0  \n",
      "2           0  \n",
      "3           0  \n",
      "4           0  \n",
      "...       ...  \n",
      "284802      0  \n",
      "284803      0  \n",
      "284804      0  \n",
      "284805      0  \n",
      "284806      0  \n",
      "\n",
      "[284807 rows x 31 columns]\n",
      "Isolation Forest model trained using multiple features.\n"
     ]
    }
   ],
   "source": [
    "from sklearn.ensemble import IsolationForest\n",
    "import pandas as pd\n",
    "\n",
    "ifor = IsolationForest(n_estimators=100, max_samples='auto', contamination=float(0.1), max_features=1.0)\n",
    "df = pd.read_csv('creditcard.csv')\n",
    "print(df)\n",
    "# Select relevant features for anomaly detection\n",
    "# Include all 'V' features, 'Time', and 'Amount'\n",
    "# Exclude 'Class' as it's the target variable (anomaly/normal)\n",
    "features_for_isolation = [col for col in df.columns if col.startswith('V')] + ['Time', 'Amount']\n",
    "X_all_features_isolation = df[features_for_isolation]\n",
    "\n",
    "# Initialize and train the Isolation Forest model with the selected features\n",
    "# You can keep random_state for reproducibility\n",
    "ifor = IsolationForest(n_estimators=100, max_samples='auto', contamination=float(0.1), random_state=0)\n",
    "\n",
    "# Fit the model to the data with all selected features\n",
    "clf = ifor.fit(X_all_features_isolation)\n",
    "\n",
    "print(\"Isolation Forest model trained using multiple features.\")\n",
    "\n"
   ]
  },
  {
   "cell_type": "code",
   "execution_count": 3,
   "id": "b95706ce-5174-4259-9c3a-a05f3321f964",
   "metadata": {},
   "outputs": [
    {
     "ename": "NameError",
     "evalue": "name 'ifor_all_features' is not defined",
     "output_type": "error",
     "traceback": [
      "\u001b[0;31m---------------------------------------------------------------------------\u001b[0m",
      "\u001b[0;31mNameError\u001b[0m                                 Traceback (most recent call last)",
      "Cell \u001b[0;32mIn[3], line 19\u001b[0m\n\u001b[1;32m     14\u001b[0m new_transaction_df \u001b[38;5;241m=\u001b[39m pd\u001b[38;5;241m.\u001b[39mDataFrame(new_transaction_features, columns\u001b[38;5;241m=\u001b[39mfeatures_for_isolation)\n\u001b[1;32m     17\u001b[0m \u001b[38;5;66;03m# Use the trained Isolation Forest model to predict whether it's an outlier (-1) or inlier (1)\u001b[39;00m\n\u001b[1;32m     18\u001b[0m \u001b[38;5;66;03m# -1 indicates an anomaly (potential fraud), 1 indicates a normal transaction\u001b[39;00m\n\u001b[0;32m---> 19\u001b[0m prediction \u001b[38;5;241m=\u001b[39m \u001b[43mifor_all_features\u001b[49m\u001b[38;5;241m.\u001b[39mpredict(new_transaction_df)\n\u001b[1;32m     21\u001b[0m \u001b[38;5;66;03m# Print the prediction result\u001b[39;00m\n\u001b[1;32m     22\u001b[0m \u001b[38;5;28mprint\u001b[39m(\u001b[38;5;124m\"\u001b[39m\u001b[38;5;124mPrediction for the new transaction:\u001b[39m\u001b[38;5;124m\"\u001b[39m, prediction[\u001b[38;5;241m0\u001b[39m])\n",
      "\u001b[0;31mNameError\u001b[0m: name 'ifor_all_features' is not defined"
     ]
    }
   ],
   "source": [
    "# Example of a new transaction's feature values\n",
    "# These values should correspond to the features used for training:\n",
    "# 'V1', 'V2', ..., 'V28', 'Time', 'Amount'\n",
    "# You would replace these with the actual values of the new transaction\n",
    "new_transaction_features = [[\n",
    "    0.1, 0.2, 0.3, 0.4, 0.5, 0.6, 0.7, 0.8, 0.9, 1.0, 1.1, 1.2, 1.3, 1.4, 1.5, 1.6, 1.7, 1.8, 1.9, 2.0, 2.1, 2.2, 2.3, 2.4, 2.5, 2.6, 2.7, 2.8, # V1-V28\n",
    "    10000.0, # Time\n",
    "    50.0 # Amount\n",
    "]]\n",
    "\n",
    "# It's good practice to put this into a DataFrame with the correct column names\n",
    "# to ensure it matches the training data format\n",
    "features_for_isolation = [col for col in df.columns if col.startswith('V')] + ['Time', 'Amount']\n",
    "new_transaction_df = pd.DataFrame(new_transaction_features, columns=features_for_isolation)\n",
    "\n",
    "\n",
    "# Use the trained Isolation Forest model to predict whether it's an outlier (-1) or inlier (1)\n",
    "# -1 indicates an anomaly (potential fraud), 1 indicates a normal transaction\n",
    "prediction = ifor_all_features.predict(new_transaction_df)\n",
    "\n",
    "# Print the prediction result\n",
    "print(\"Prediction for the new transaction:\", prediction[0])\n",
    "# -1 means outlier (potential fraud)\n",
    "# 1 means inlier (normal)"
   ]
  },
  {
   "cell_type": "code",
   "execution_count": null,
   "id": "8d7a8316-ee75-4219-ab14-6a2aeea1eeaf",
   "metadata": {},
   "outputs": [],
   "source": []
  }
 ],
 "metadata": {
  "kernelspec": {
   "display_name": "Python (global)",
   "language": "python",
   "name": "global-python-kernel"
  },
  "language_info": {
   "codemirror_mode": {
    "name": "ipython",
    "version": 3
   },
   "file_extension": ".py",
   "mimetype": "text/x-python",
   "name": "python",
   "nbconvert_exporter": "python",
   "pygments_lexer": "ipython3",
   "version": "3.13.1"
  }
 },
 "nbformat": 4,
 "nbformat_minor": 5
}
