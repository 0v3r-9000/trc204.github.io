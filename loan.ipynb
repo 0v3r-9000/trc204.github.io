{
 "cells": [
  {
   "cell_type": "code",
   "execution_count": 1,
   "id": "9b8bd8db-79f5-44d8-9bd9-fc5084dc9a3e",
   "metadata": {},
   "outputs": [
    {
     "name": "stdout",
     "output_type": "stream",
     "text": [
      "1.0\n",
      "Shape of X_train: (3201, 11)\n",
      "Shape of X_test: (1068, 11)\n",
      "Shape of y_train: (3201,)\n",
      "Shape of y_test: (1068,)\n",
      "First 10 predictions on the test set: [' Rejected' ' Approved' ' Rejected' ' Approved' ' Approved' ' Approved'\n",
      " ' Approved' ' Rejected' ' Approved' ' Rejected']\n",
      "Accuracy of the Random Forest Model on the test set: 0.9794007490636704\n"
     ]
    }
   ],
   "source": [
    "from sklearn.ensemble import RandomForestClassifier\n",
    "from sklearn.model_selection import train_test_split\n",
    "from sklearn.metrics import accuracy_score\n",
    "import pandas as pd\n",
    "\n",
    "ladf = pd.read_csv(\"loan_approval_dataset.csv\")\n",
    "ladf.head()\n",
    "\n",
    "features = [' no_of_dependents', ' education', ' self_employed', ' income_annum', ' loan_amount', ' loan_term', ' cibil_score', ' residential_assets_value', ' commercial_assets_value', ' luxury_assets_value', ' bank_asset_value']\n",
    "X = ladf[features]\n",
    "y = ladf[' loan_status']\n",
    "X_encoded = pd.get_dummies(X, columns=[' education', ' self_employed'], drop_first=True)\n",
    "\n",
    "rf = RandomForestClassifier(random_state=42)\n",
    "rf = rf.fit(X_encoded, y)\n",
    "prediction = rf.predict(X_encoded)\n",
    "print(accuracy_score(y, prediction))\n",
    "from sklearn.model_selection import train_test_split\n",
    "from sklearn.metrics import accuracy_score\n",
    "\n",
    "# Split the data into training and testing sets\n",
    "X_train, X_test, y_train, y_test = train_test_split(X_encoded, y, test_size=0.25, random_state=42)\n",
    "\n",
    "# Display the shapes of the resulting sets\n",
    "print(\"Shape of X_train:\", X_train.shape)\n",
    "print(\"Shape of X_test:\", X_test.shape)\n",
    "print(\"Shape of y_train:\", y_train.shape)\n",
    "print(\"Shape of y_test:\", y_test.shape)\n",
    "# Initialize and train the Random Forest Classifier on the training data\n",
    "\n",
    "rf.fit(X_train, y_train)\n",
    "\n",
    "# Make predictions on the test data\n",
    "predictions = rf.predict(X_test)\n",
    "\n",
    "# Display the first few predictions\n",
    "print(\"First 10 predictions on the test set:\", predictions[:10])\n",
    "# Calculate the accuracy of the model on the test data\n",
    "accuracy = accuracy_score(y_test, predictions)\n",
    "\n",
    "# Display the accuracy score\n",
    "print(\"Accuracy of the Random Forest Model on the test set:\", accuracy)"
   ]
  },
  {
   "cell_type": "code",
   "execution_count": null,
   "id": "ac99d6f0-f12d-48ea-9207-1132127f84c1",
   "metadata": {},
   "outputs": [],
   "source": []
  },
  {
   "cell_type": "code",
   "execution_count": null,
   "id": "7dbbfa8c-d6bc-44b1-a29d-aff56101b28f",
   "metadata": {},
   "outputs": [],
   "source": []
  }
 ],
 "metadata": {
  "kernelspec": {
   "display_name": "Python 3 (ipykernel)",
   "language": "python",
   "name": "python3"
  },
  "language_info": {
   "codemirror_mode": {
    "name": "ipython",
    "version": 3
   },
   "file_extension": ".py",
   "mimetype": "text/x-python",
   "name": "python",
   "nbconvert_exporter": "python",
   "pygments_lexer": "ipython3",
   "version": "3.12.1"
  }
 },
 "nbformat": 4,
 "nbformat_minor": 5
}
