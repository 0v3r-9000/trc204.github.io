{
  "nbformat": 4,
  "nbformat_minor": 0,
  "metadata": {
    "colab": {
      "provenance": [],
      "authorship_tag": "ABX9TyPjvq/DuHrpMXs18UJPCzQA",
      "include_colab_link": true
    },
    "kernelspec": {
      "name": "python3",
      "display_name": "Python 3"
    },
    "language_info": {
      "name": "python"
    }
  },
  "cells": [
    {
      "cell_type": "markdown",
      "metadata": {
        "id": "view-in-github",
        "colab_type": "text"
      },
      "source": [
        "<a href=\"https://colab.research.google.com/github/0v3r-9000/trc204.github.io/blob/main/Breast_Cancer_Classifier.ipynb\" target=\"_parent\"><img src=\"https://colab.research.google.com/assets/colab-badge.svg\" alt=\"Open In Colab\"/></a>"
      ]
    },
    {
      "cell_type": "code",
      "source": [
        "!pip install ucimlrepo\n",
        "from ucimlrepo import fetch_ucirepo\n",
        "\n",
        "# fetch dataset\n",
        "breast_cancer = fetch_ucirepo(id=14)\n",
        "\n",
        "# data (as pandas dataframes)\n",
        "X = breast_cancer.data.features\n",
        "y = breast_cancer.data.targets\n",
        "\n",
        "# metadata\n",
        "print(breast_cancer.metadata)\n",
        "\n",
        "# variable information\n",
        "print(breast_cancer.variables)"
      ],
      "metadata": {
        "colab": {
          "base_uri": "https://localhost:8080/"
        },
        "id": "frstRozaz3aM",
        "outputId": "8db6f2d4-00b8-425b-ad6f-114e09137616"
      },
      "execution_count": 2,
      "outputs": [
        {
          "output_type": "stream",
          "name": "stdout",
          "text": [
            "Requirement already satisfied: ucimlrepo in /usr/local/lib/python3.12/dist-packages (0.0.7)\n",
            "Requirement already satisfied: pandas>=1.0.0 in /usr/local/lib/python3.12/dist-packages (from ucimlrepo) (2.2.2)\n",
            "Requirement already satisfied: certifi>=2020.12.5 in /usr/local/lib/python3.12/dist-packages (from ucimlrepo) (2025.8.3)\n",
            "Requirement already satisfied: numpy>=1.26.0 in /usr/local/lib/python3.12/dist-packages (from pandas>=1.0.0->ucimlrepo) (2.0.2)\n",
            "Requirement already satisfied: python-dateutil>=2.8.2 in /usr/local/lib/python3.12/dist-packages (from pandas>=1.0.0->ucimlrepo) (2.9.0.post0)\n",
            "Requirement already satisfied: pytz>=2020.1 in /usr/local/lib/python3.12/dist-packages (from pandas>=1.0.0->ucimlrepo) (2025.2)\n",
            "Requirement already satisfied: tzdata>=2022.7 in /usr/local/lib/python3.12/dist-packages (from pandas>=1.0.0->ucimlrepo) (2025.2)\n",
            "Requirement already satisfied: six>=1.5 in /usr/local/lib/python3.12/dist-packages (from python-dateutil>=2.8.2->pandas>=1.0.0->ucimlrepo) (1.17.0)\n",
            "{'uci_id': 14, 'name': 'Breast Cancer', 'repository_url': 'https://archive.ics.uci.edu/dataset/14/breast+cancer', 'data_url': 'https://archive.ics.uci.edu/static/public/14/data.csv', 'abstract': 'This breast cancer domain was obtained from the University Medical Centre, Institute of Oncology, Ljubljana, Yugoslavia. This is one of three domains provided by the Oncology Institute that has repeatedly appeared in the machine learning literature. (See also lymphography and primary-tumor.)', 'area': 'Health and Medicine', 'tasks': ['Classification'], 'characteristics': ['Multivariate'], 'num_instances': 286, 'num_features': 9, 'feature_types': ['Categorical'], 'demographics': ['Age'], 'target_col': ['Class'], 'index_col': None, 'has_missing_values': 'yes', 'missing_values_symbol': 'NaN', 'year_of_dataset_creation': 1988, 'last_updated': 'Thu Mar 07 2024', 'dataset_doi': '10.24432/C51P4M', 'creators': ['Matjaz Zwitter', 'Milan Soklic'], 'intro_paper': None, 'additional_info': {'summary': 'This data set includes 201 instances of one class and 85 instances of another class.  The instances are described by 9 attributes, some of which are linear and some are nominal.\\n', 'purpose': None, 'funded_by': None, 'instances_represent': None, 'recommended_data_splits': None, 'sensitive_data': None, 'preprocessing_description': None, 'variable_info': '   1. Class: no-recurrence-events, recurrence-events\\r\\n   2. age: 10-19, 20-29, 30-39, 40-49, 50-59, 60-69, 70-79, 80-89, 90-99.\\r\\n   3. menopause: lt40, ge40, premeno.\\r\\n   4. tumor-size: 0-4, 5-9, 10-14, 15-19, 20-24, 25-29, 30-34, 35-39, 40-44, 45-49, 50-54, 55-59.\\r\\n   5. inv-nodes: 0-2, 3-5, 6-8, 9-11, 12-14, 15-17, 18-20, 21-23, 24-26, 27-29, 30-32, 33-35, 36-39.\\r\\n   6. node-caps: yes, no.\\r\\n   7. deg-malig: 1, 2, 3.\\r\\n   8. breast: left, right.\\r\\n   9. breast-quad: left-up, left-low, right-up,\\tright-low, central.\\r\\n  10. irradiat:\\tyes, no.', 'citation': 'Obtained from the University Medical Centre, Institute of Oncology, Ljubljana, Yugoslavia.  Thanks go to M. Zwitter and M. Soklic for providing the data.  Please include this citation if you plan to use this database:\\nMatjaz Zwitter & Milan Soklic (physicians)\\nInstitute of Oncology \\nUniversity Medical Center\\nLjubljana, Yugoslavia'}}\n",
            "          name     role         type demographic  \\\n",
            "0        Class   Target       Binary        None   \n",
            "1          age  Feature  Categorical         Age   \n",
            "2    menopause  Feature  Categorical        None   \n",
            "3   tumor-size  Feature  Categorical        None   \n",
            "4    inv-nodes  Feature  Categorical        None   \n",
            "5    node-caps  Feature       Binary        None   \n",
            "6    deg-malig  Feature      Integer        None   \n",
            "7       breast  Feature       Binary        None   \n",
            "8  breast-quad  Feature  Categorical        None   \n",
            "9     irradiat  Feature       Binary        None   \n",
            "\n",
            "                                         description  units missing_values  \n",
            "0            no-recurrence-events, recurrence-events   None             no  \n",
            "1  10-19, 20-29, 30-39, 40-49, 50-59, 60-69, 70-7...  years             no  \n",
            "2                                lt40, ge40, premeno   None             no  \n",
            "3  0-4, 5-9, 10-14, 15-19, 20-24, 25-29, 30-34, 3...   None             no  \n",
            "4   0-2, 3-5, 6-8, 9-11, 12-14, 15-17, 18-20, 21-...   None             no  \n",
            "5                                            yes, no   None            yes  \n",
            "6                                            1, 2, 3   None             no  \n",
            "7                                        left, right   None             no  \n",
            "8   left-up, left-low, right-up,\\tright-low, central   None            yes  \n",
            "9                                            yes, no   None             no  \n"
          ]
        }
      ]
    },
    {
      "cell_type": "code",
      "source": [
        "from sklearn.model_selection import GridSearchCV\n",
        "from sklearn.ensemble import RandomForestClassifier\n",
        "\n",
        "# Define the parameter grid\n",
        "param_grid = {\n",
        "    'n_estimators': [100, 200, 300],\n",
        "    'max_depth': [None, 10, 20, 30],\n",
        "    'min_samples_split': [2, 5, 10],\n",
        "    'min_samples_leaf': [1, 2, 4],\n",
        "    'bootstrap': [True, False]\n",
        "}\n",
        "\n",
        "# Create a GridSearchCV object\n",
        "grid_search = GridSearchCV(estimator=RandomForestClassifier(random_state=42), param_grid=param_grid, cv=5, n_jobs=-1, scoring='accuracy')\n",
        "\n",
        "# Perform the grid search\n",
        "grid_search.fit(X_train_resampled, y_train_resampled)\n",
        "\n",
        "# Print the best parameters and best score\n",
        "print(\"Best parameters found: \", grid_search.best_params_)\n",
        "print(\"Best accuracy found: \", grid_search.best_score_)"
      ],
      "metadata": {
        "colab": {
          "base_uri": "https://localhost:8080/"
        },
        "id": "xDl8kigStSNO",
        "outputId": "2868d81b-db3a-4d83-b1fc-cec0738890f1"
      },
      "execution_count": 39,
      "outputs": [
        {
          "output_type": "stream",
          "name": "stdout",
          "text": [
            "Best parameters found:  {'bootstrap': False, 'max_depth': None, 'min_samples_leaf': 1, 'min_samples_split': 2, 'n_estimators': 100}\n",
            "Best accuracy found:  0.8342857142857142\n"
          ]
        }
      ]
    },
    {
      "cell_type": "code",
      "source": [
        "# Install required packages\n",
        "%pip install ucimlrepo imbalanced-learn\n",
        "\n",
        "# === 1. IMPORTS ===\n",
        "from ucimlrepo import fetch_ucirepo\n",
        "import pandas as pd\n",
        "import numpy as np\n",
        "from sklearn.model_selection import train_test_split\n",
        "from sklearn.preprocessing import LabelEncoder, OrdinalEncoder\n",
        "from sklearn.ensemble import RandomForestClassifier\n",
        "from sklearn.metrics import accuracy_score, confusion_matrix, ConfusionMatrixDisplay\n",
        "from imblearn.over_sampling import SMOTE\n",
        "import matplotlib.pyplot as plt\n",
        "\n",
        "# === 2. FETCH DATASET ===\n",
        "breast_cancer = fetch_ucirepo(id=14)\n",
        "\n",
        "# Extract features and target\n",
        "X = breast_cancer.data.features\n",
        "y = breast_cancer.data.targets\n",
        "\n",
        "# Combine into a single DataFrame\n",
        "df = pd.concat([X, y], axis=1)\n",
        "\n",
        "# === 3. CLEANING ===\n",
        "# Drop rows with missing 'breast-quad'\n",
        "df.dropna(subset=['breast-quad'], inplace=True)\n",
        "\n",
        "# Encode target variable\n",
        "le = LabelEncoder()\n",
        "df['Class'] = le.fit_transform(df['Class'])  # malignant = 0, benign = 1\n",
        "\n",
        "# === 4. ENCODING CATEGORICAL VARIABLES ===\n",
        "\n",
        "# Ordinal encoding\n",
        "ordinal_cols = ['age', 'menopause', 'tumor-size', 'inv-nodes', 'breast-quad']\n",
        "ordinal_encoder = OrdinalEncoder()\n",
        "df[ordinal_cols] = ordinal_encoder.fit_transform(df[ordinal_cols])\n",
        "\n",
        "# One-hot encoding for nominal categories\n",
        "df = pd.get_dummies(df, columns=['node-caps', 'breast', 'irradiat'], drop_first=True)\n",
        "\n",
        "# === 5. SPLIT DATA ===\n",
        "X = df.drop('Class', axis=1)\n",
        "y = df['Class']\n",
        "X_train, X_test, y_train, y_test = train_test_split(X, y, test_size=0.2, random_state=42)\n",
        "\n",
        "# === 6. HANDLE IMBALANCE WITH SMOTE ===\n",
        "print(\"Before SMOTE:\", y_train.value_counts())\n",
        "\n",
        "# Use correct integer class labels\n",
        "smote = SMOTE(random_state=42, sampling_strategy={0: 175, 1: 175})\n",
        "X_train_resampled, y_train_resampled = smote.fit_resample(X_train, y_train)\n",
        "\n",
        "print(\"After SMOTE:\", y_train_resampled.value_counts())\n",
        "\n",
        "# === 7. TRAIN MODEL ===\n",
        "\n",
        "\n",
        "model = RandomForestClassifier(\n",
        "    bootstrap=False,\n",
        "    max_depth=None,\n",
        "    min_samples_leaf=1,\n",
        "    min_samples_split=2,\n",
        "    n_estimators=100,\n",
        "    random_state=42\n",
        ")\n",
        "\n",
        "model.fit(X_train_resampled, y_train_resampled)\n",
        "\n",
        "\n",
        "# === 8. EVALUATE MODEL ===\n",
        "y_pred = model.predict(X_test)\n",
        "\n",
        "# Confusion Matrix\n",
        "cm = confusion_matrix(y_test, y_pred)\n",
        "disp = ConfusionMatrixDisplay(confusion_matrix=cm, display_labels=le.classes_)\n",
        "disp.plot()\n",
        "plt.title(\"Confusion Matrix (After SMOTE)\")\n",
        "plt.show()\n",
        "\n",
        "# Accuracy\n",
        "accuracy = accuracy_score(y_test, y_pred)\n",
        "print(f\"Accuracy on the test set after SMOTE: {accuracy:.4f}\")\n"
      ],
      "metadata": {
        "colab": {
          "base_uri": "https://localhost:8080/",
          "height": 854
        },
        "id": "v8Dfc8PpvVC5",
        "outputId": "093e0160-d119-44ff-8f72-bbfde2f555d2"
      },
      "execution_count": 3,
      "outputs": [
        {
          "output_type": "stream",
          "name": "stdout",
          "text": [
            "Requirement already satisfied: ucimlrepo in /usr/local/lib/python3.12/dist-packages (0.0.7)\n",
            "Requirement already satisfied: imbalanced-learn in /usr/local/lib/python3.12/dist-packages (0.14.0)\n",
            "Requirement already satisfied: pandas>=1.0.0 in /usr/local/lib/python3.12/dist-packages (from ucimlrepo) (2.2.2)\n",
            "Requirement already satisfied: certifi>=2020.12.5 in /usr/local/lib/python3.12/dist-packages (from ucimlrepo) (2025.8.3)\n",
            "Requirement already satisfied: numpy<3,>=1.25.2 in /usr/local/lib/python3.12/dist-packages (from imbalanced-learn) (2.0.2)\n",
            "Requirement already satisfied: scipy<2,>=1.11.4 in /usr/local/lib/python3.12/dist-packages (from imbalanced-learn) (1.16.1)\n",
            "Requirement already satisfied: scikit-learn<2,>=1.4.2 in /usr/local/lib/python3.12/dist-packages (from imbalanced-learn) (1.6.1)\n",
            "Requirement already satisfied: joblib<2,>=1.2.0 in /usr/local/lib/python3.12/dist-packages (from imbalanced-learn) (1.5.2)\n",
            "Requirement already satisfied: threadpoolctl<4,>=2.0.0 in /usr/local/lib/python3.12/dist-packages (from imbalanced-learn) (3.6.0)\n",
            "Requirement already satisfied: python-dateutil>=2.8.2 in /usr/local/lib/python3.12/dist-packages (from pandas>=1.0.0->ucimlrepo) (2.9.0.post0)\n",
            "Requirement already satisfied: pytz>=2020.1 in /usr/local/lib/python3.12/dist-packages (from pandas>=1.0.0->ucimlrepo) (2025.2)\n",
            "Requirement already satisfied: tzdata>=2022.7 in /usr/local/lib/python3.12/dist-packages (from pandas>=1.0.0->ucimlrepo) (2025.2)\n",
            "Requirement already satisfied: six>=1.5 in /usr/local/lib/python3.12/dist-packages (from python-dateutil>=2.8.2->pandas>=1.0.0->ucimlrepo) (1.17.0)\n",
            "Before SMOTE: Class\n",
            "0    164\n",
            "1     64\n",
            "Name: count, dtype: int64\n",
            "After SMOTE: Class\n",
            "1    175\n",
            "0    175\n",
            "Name: count, dtype: int64\n"
          ]
        },
        {
          "output_type": "display_data",
          "data": {
            "text/plain": [
              "<Figure size 640x480 with 2 Axes>"
            ],
            "image/png": "[encoded data removed]"
          },
          "metadata": {}
        },
        {
          "output_type": "stream",
          "name": "stdout",
          "text": [
            "Accuracy on the test set after SMOTE: 0.6491\n"
          ]
        }
      ]
    }
  ]
}